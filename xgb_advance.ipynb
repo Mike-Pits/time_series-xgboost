{
 "cells": [
  {
   "cell_type": "code",
   "execution_count": 3,
   "id": "8f5f6ae8-98fc-4d82-af74-d4e010c95ff4",
   "metadata": {
    "tags": []
   },
   "outputs": [],
   "source": [
    "import pandas as pd \n",
    "import numpy as np \n",
    "import matplotlib.pyplot as plt\n",
    "import seaborn as sns\n",
    "import xgboost as xgb \n",
    "from sklearn.metrics import mean_squared_error\n",
    "color_pal = sns.color_palette()\n",
    "plt.style.use('fivethirtyeight')"
   ]
  },
  {
   "cell_type": "markdown",
   "id": "ba9c75c1-f0a4-4719-b389-b8f30ea14424",
   "metadata": {},
   "source": [
    "Outline:\n",
    "- outliers analysis\n",
    "- forecasting horizon explained\n",
    "- ts cross validations\n",
    "- lag features\n",
    "- predicting the future"
   ]
  },
  {
   "cell_type": "markdown",
   "id": "3a8d997f-2d41-4962-b708-d0b6a10ba0a4",
   "metadata": {},
   "source": [
    "checking git"
   ]
  },
  {
   "cell_type": "code",
   "execution_count": null,
   "id": "d50ae16d-2e49-4760-b2b1-682bcdcffbce",
   "metadata": {},
   "outputs": [],
   "source": []
  }
 ],
 "metadata": {
  "kernelspec": {
   "display_name": "Python 3 (ipykernel)",
   "language": "python",
   "name": "python3"
  },
  "language_info": {
   "codemirror_mode": {
    "name": "ipython",
    "version": 3
   },
   "file_extension": ".py",
   "mimetype": "text/x-python",
   "name": "python",
   "nbconvert_exporter": "python",
   "pygments_lexer": "ipython3",
   "version": "3.10.10"
  }
 },
 "nbformat": 4,
 "nbformat_minor": 5
}
